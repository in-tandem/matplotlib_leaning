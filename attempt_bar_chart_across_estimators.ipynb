{
 "cells": [
  {
   "cell_type": "code",
   "execution_count": 3,
   "metadata": {},
   "outputs": [],
   "source": [
    "from matplotlib import pyplot as plot\n",
    "import pandas as panda\n",
    "\n",
    "%matplotlib inline"
   ]
  },
  {
   "cell_type": "code",
   "execution_count": 2,
   "metadata": {},
   "outputs": [],
   "source": [
    "results_score = {\n",
    "    \n",
    "    'perceptron' : {'testing_time' : 76, 'training_time' : 150, 'accuracy_score': 0.89},\n",
    "    'svm' : {'testing_time' : 15, 'training_time' : 150, 'accuracy_score': 0.19},\n",
    "    'logistic regression' : {'testing_time' : 66, 'training_time' : 150, 'accuracy_score': 0.9},\n",
    "    'decisiontree' : {'testing_time' : 34, 'training_time' : 250, 'accuracy_score': 0.65},\n",
    "    'random_forest' : {'testing_time' : 44, 'training_time' : 1500, 'accuracy_score': 0.72},\n",
    "    'knearest_neighbor' : {'testing_time' : 6, 'training_time' : 10, 'accuracy_score': 0.92},   \n",
    "    \n",
    "    \n",
    "}"
   ]
  },
  {
   "cell_type": "code",
   "execution_count": 9,
   "metadata": {},
   "outputs": [
    {
     "data": {
      "text/html": [
       "<div>\n",
       "<style scoped>\n",
       "    .dataframe tbody tr th:only-of-type {\n",
       "        vertical-align: middle;\n",
       "    }\n",
       "\n",
       "    .dataframe tbody tr th {\n",
       "        vertical-align: top;\n",
       "    }\n",
       "\n",
       "    .dataframe thead th {\n",
       "        text-align: right;\n",
       "    }\n",
       "</style>\n",
       "<table border=\"1\" class=\"dataframe\">\n",
       "  <thead>\n",
       "    <tr style=\"text-align: right;\">\n",
       "      <th></th>\n",
       "      <th>accuracy_score</th>\n",
       "      <th>testing_time</th>\n",
       "      <th>training_time</th>\n",
       "    </tr>\n",
       "  </thead>\n",
       "  <tbody>\n",
       "    <tr>\n",
       "      <th>perceptron</th>\n",
       "      <td>0.89</td>\n",
       "      <td>76.0</td>\n",
       "      <td>150.0</td>\n",
       "    </tr>\n",
       "    <tr>\n",
       "      <th>svm</th>\n",
       "      <td>0.19</td>\n",
       "      <td>15.0</td>\n",
       "      <td>150.0</td>\n",
       "    </tr>\n",
       "    <tr>\n",
       "      <th>logistic regression</th>\n",
       "      <td>0.90</td>\n",
       "      <td>66.0</td>\n",
       "      <td>150.0</td>\n",
       "    </tr>\n",
       "    <tr>\n",
       "      <th>decisiontree</th>\n",
       "      <td>0.65</td>\n",
       "      <td>34.0</td>\n",
       "      <td>250.0</td>\n",
       "    </tr>\n",
       "    <tr>\n",
       "      <th>random_forest</th>\n",
       "      <td>0.72</td>\n",
       "      <td>44.0</td>\n",
       "      <td>1500.0</td>\n",
       "    </tr>\n",
       "    <tr>\n",
       "      <th>knearest_neighbor</th>\n",
       "      <td>0.92</td>\n",
       "      <td>6.0</td>\n",
       "      <td>10.0</td>\n",
       "    </tr>\n",
       "  </tbody>\n",
       "</table>\n",
       "</div>"
      ],
      "text/plain": [
       "                     accuracy_score  testing_time  training_time\n",
       "perceptron                     0.89          76.0          150.0\n",
       "svm                            0.19          15.0          150.0\n",
       "logistic regression            0.90          66.0          150.0\n",
       "decisiontree                   0.65          34.0          250.0\n",
       "random_forest                  0.72          44.0         1500.0\n",
       "knearest_neighbor              0.92           6.0           10.0"
      ]
     },
     "execution_count": 9,
     "metadata": {},
     "output_type": "execute_result"
    }
   ],
   "source": [
    "data = panda.DataFrame(results_score).transpose()\n",
    "data"
   ]
  },
  {
   "cell_type": "code",
   "execution_count": 15,
   "metadata": {},
   "outputs": [
    {
     "data": {
      "image/png": "[encoded data removed]",
      "text/plain": [
       "<Figure size 864x720 with 1 Axes>"
      ]
     },
     "metadata": {},
     "output_type": "display_data"
    }
   ],
   "source": [
    "\n",
    "data.plot(kind='barh',figsize=(12, 10))\n",
    "plot.title(\"Score\")\n",
    "plot.show()"
   ]
  },
  {
   "cell_type": "code",
   "execution_count": 1,
   "metadata": {},
   "outputs": [
    {
     "name": "stdout",
     "output_type": "stream",
     "text": [
      "                            Very interested  Somewhat interested  \\\n",
      "Big Data (Spark / Hadoop)              1332                  729   \n",
      "Data Analysis / Statistics             1688                  444   \n",
      "Data Journalism                         429                 1081   \n",
      "Data Visualization                     1340                  734   \n",
      "Deep Learning                          1263                  770   \n",
      "Machine Learning                       1629                  477   \n",
      "\n",
      "                            Not interested  \n",
      "Big Data (Spark / Hadoop)              127  \n",
      "Data Analysis / Statistics              60  \n",
      "Data Journalism                        610  \n",
      "Data Visualization                     102  \n",
      "Deep Learning                          136  \n",
      "Machine Learning                        74  \n",
      "                            Very interested  Somewhat interested  \\\n",
      "Data Analysis / Statistics        75.593372            19.892473   \n",
      "Machine Learning                  72.951187            21.370968   \n",
      "Data Visualization                60.008957            32.885305   \n",
      "Big Data (Spark / Hadoop)         59.650694            32.661290   \n",
      "Deep Learning                     56.560681            34.498208   \n",
      "Data Journalism                   19.211823            48.431900   \n",
      "\n",
      "                            Not interested  \n",
      "Data Analysis / Statistics        2.688172  \n",
      "Machine Learning                  3.315412  \n",
      "Data Visualization                4.569892  \n",
      "Big Data (Spark / Hadoop)         5.689964  \n",
      "Deep Learning                     6.093190  \n",
      "Data Journalism                  27.329749  \n"
     ]
    },
    {
     "data": {
      "text/plain": [
       "<Figure size 2000x800 with 1 Axes>"
      ]
     },
     "metadata": {},
     "output_type": "display_data"
    }
   ],
   "source": [
    "import pandas as panda \n",
    "from matplotlib import pyplot as plot\n",
    "\n",
    "\n",
    "remote_location = 'https://cocl.us/datascience_survey_data'\n",
    "\n",
    "data = panda.read_csv(remote_location, index_col=0)\n",
    "\n",
    "print(data)\n",
    "\n",
    "data.sort_values(inplace = True, by = 'Very interested', ascending = False)\n",
    "\n",
    "data['Very interested'] = (data['Very interested']/2233) * 100 \n",
    "\n",
    "data['Somewhat interested'] = (data['Somewhat interested']/2232) * 100 \n",
    "data['Not interested'] = (data['Not interested']/ 2232) * 100\n",
    "\n",
    "\n",
    "print(data)\n",
    "import matplotlib as mpl\n",
    "mpl.rcParams['toolbar'] = 'None'\n",
    "\n",
    "\n",
    "axes = data.plot(kind='bar', figsize = (20, 8), color = ['#5cb85c','#5bc0de','#d9534f'], width = 0.8)\n",
    "axes.set_title('Percentage of Respondent\\'s Interest In Data Science Areas', {'fontsize': 16})\n",
    "# axes.set_ylabel('')\n",
    "axes.get_yaxis().set_visible(False)\n",
    "# axes.get_xaxis().set_visible(False)\n",
    "axes.legend(fontsize = 14)\n",
    "axes.spines['top'].set_visible(False)\n",
    "axes.spines['right'].set_visible(False)\n",
    "\n",
    "# axes.spines['bottom'].set_visible(False)\n",
    "axes.spines['left'].set_visible(False)\n",
    "\n",
    "\n",
    "# set individual bar lables using above list\n",
    "for i in axes.patches:\n",
    "    # get_x pulls left or right; get_height pushes up or down\n",
    "    axes.text(i.get_x(), i.get_height()+ 2, \\\n",
    "            str(round(i.get_height(), 2))+'%', fontsize=10,\n",
    "                color='black', bbox=dict(facecolor='dimgrey', alpha=0.5))\n",
    "\n",
    "plot.tight_layout()\n",
    "plot.show()\n",
    "\n",
    "# plot.axis('off')"
   ]
  }
 ],
 "metadata": {
  "kernelspec": {
   "display_name": "Python 3",
   "language": "python",
   "name": "python3"
  },
  "language_info": {
   "codemirror_mode": {
    "name": "ipython",
    "version": 3
   },
   "file_extension": ".py",
   "mimetype": "text/x-python",
   "name": "python",
   "nbconvert_exporter": "python",
   "pygments_lexer": "ipython3",
   "version": "3.6.5"
  }
 },
 "nbformat": 4,
 "nbformat_minor": 2
}
